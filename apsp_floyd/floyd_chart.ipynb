{
 "cells": [
  {
   "cell_type": "code",
   "execution_count": null,
   "metadata": {},
   "outputs": [],
   "source": [
    "import matplotlib.pyplot as plt\n",
    "\n",
    "gpu_times = []\n",
    "cpu_times = []\n",
    "sizes = []\n",
    "\n",
    "with open('floyd_results.log', 'r') as file:\n",
    "    for line in file:\n",
    "        parts = line.split(' ')\n",
    "        time = float(parts[5])\n",
    "        size = int(parts[9])\n",
    "        \n",
    "        if 'GPU' in line:\n",
    "            gpu_times.append(time)\n",
    "        elif 'CPU' in line:\n",
    "            cpu_times.append(time)\n",
    "        \n",
    "        sizes.append(size)\n",
    "\n",
    "gpu_sizes = sizes[::2]\n",
    "cpu_sizes = sizes[1::2]  \n",
    "\n",
    "plt.figure(figsize=(10, 6))\n",
    "\n",
    "plt.plot(gpu_sizes, gpu_times, marker='o', label='Floyd GPU', color='green')\n",
    "plt.plot(cpu_sizes, cpu_times, marker='o', label='Floyd CPU', color = 'orange')\n",
    "\n",
    "plt.title('FLOYD GPU CUDA X CPU SERIAL')\n",
    "plt.xlabel('Matrix Size')\n",
    "plt.ylabel('Execution Time (seconds)')\n",
    "plt.legend()\n",
    "plt.grid(True)\n",
    "plt.show()"
   ]
  }
 ],
 "metadata": {
  "kernelspec": {
   "display_name": "Python 3",
   "language": "python",
   "name": "python3"
  },
  "language_info": {
   "codemirror_mode": {
    "name": "ipython",
    "version": 3
   },
   "file_extension": ".py",
   "mimetype": "text/x-python",
   "name": "python",
   "nbconvert_exporter": "python",
   "pygments_lexer": "ipython3",
   "version": "3.9.2"
  }
 },
 "nbformat": 4,
 "nbformat_minor": 2
}
