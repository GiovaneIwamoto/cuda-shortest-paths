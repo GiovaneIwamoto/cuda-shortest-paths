{
 "cells": [
  {
   "cell_type": "code",
   "execution_count": null,
   "metadata": {},
   "outputs": [],
   "source": [
    "import numpy as np\n",
    "import matplotlib.pyplot as plt\n",
    "\n",
    "gpu_times = []\n",
    "cpu_times = []\n",
    "gpu_sizes = []\n",
    "cpu_sizes = []\n",
    "\n",
    "with open('floyd_results.log', 'r') as file:\n",
    "    for line in file:\n",
    "        parts = line.split(' ')\n",
    "        time = float(parts[5])\n",
    "        size = int(parts[9])\n",
    "        \n",
    "        if 'GPU' in line:\n",
    "            gpu_times.append(time)\n",
    "            gpu_sizes.append(size)\n",
    "        elif 'CPU' in line:\n",
    "            cpu_times.append(time)\n",
    "            cpu_sizes.append(size)\n",
    "\n",
    "plt.figure(figsize=(10, 6))\n",
    "plt.rcParams.update({\n",
    "    \"axes.facecolor\": \"#282c34\",\n",
    "    \"axes.edgecolor\": \"#FFFFFF\",\n",
    "    \"axes.grid\": True,\n",
    "    \"axes.axisbelow\": True,\n",
    "    \"grid.color\": \"#abb2bf\",\n",
    "    \"text.color\": \"#abb2bf\",\n",
    "    \"xtick.color\": \"#abb2bf\",\n",
    "    \"ytick.color\": \"#abb2bf\",\n",
    "    \"legend.facecolor\": \"#3b3f48\",\n",
    "    \"figure.facecolor\": \"#282c34\",\n",
    "    \"figure.edgecolor\": \"#282c34\"\n",
    "})\n",
    "\n",
    "plt.plot(gpu_sizes, gpu_times, marker='o', label='Floyd GPU', markersize=5, color='lime') \n",
    "plt.plot(cpu_sizes, cpu_times, marker='o', label='Floyd CPU', markersize=5, color='blue') \n",
    "\n",
    "plt.title('FLOYD GPU CUDA X CPU SERIAL', color='#ffffff')\n",
    "plt.xlabel('Matrix Size', color='#ffffff')\n",
    "plt.ylabel('Execution Time (seconds)', color='#ffffff')\n",
    "plt.legend()\n",
    "plt.grid(True, color='#ffffff')\n",
    "\n",
    "plt.show()\n"
   ]
  }
 ],
 "metadata": {
  "kernelspec": {
   "display_name": "Python 3",
   "language": "python",
   "name": "python3"
  },
  "language_info": {
   "codemirror_mode": {
    "name": "ipython",
    "version": 3
   },
   "file_extension": ".py",
   "mimetype": "text/x-python",
   "name": "python",
   "nbconvert_exporter": "python",
   "pygments_lexer": "ipython3",
   "version": "3.12.4"
  }
 },
 "nbformat": 4,
 "nbformat_minor": 2
}
