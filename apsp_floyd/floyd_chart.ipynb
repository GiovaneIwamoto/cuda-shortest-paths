{
 "cells": [
  {
   "cell_type": "code",
   "execution_count": 31,
   "metadata": {},
   "outputs": [
    {
     "ename": "FileNotFoundError",
     "evalue": "[Errno 2] No such file or directory: 'floyd_results.log'",
     "output_type": "error",
     "traceback": [
      "\u001b[1;31m---------------------------------------------------------------------------\u001b[0m",
      "\u001b[1;31mFileNotFoundError\u001b[0m                         Traceback (most recent call last)",
      "\u001b[1;32mc:\\Users\\giova\\Desktop\\Projects\\cuda-shortest-paths\\apsp_floyd\\floyd_chart.ipynb Cell 1\u001b[0m line \u001b[0;36m7\n\u001b[0;32m      <a href='vscode-notebook-cell:/c%3A/Users/giova/Desktop/Projects/cuda-shortest-paths/apsp_floyd/floyd_chart.ipynb#W0sZmlsZQ%3D%3D?line=3'>4</a>\u001b[0m cpu_times \u001b[39m=\u001b[39m []\n\u001b[0;32m      <a href='vscode-notebook-cell:/c%3A/Users/giova/Desktop/Projects/cuda-shortest-paths/apsp_floyd/floyd_chart.ipynb#W0sZmlsZQ%3D%3D?line=4'>5</a>\u001b[0m sizes \u001b[39m=\u001b[39m []\n\u001b[1;32m----> <a href='vscode-notebook-cell:/c%3A/Users/giova/Desktop/Projects/cuda-shortest-paths/apsp_floyd/floyd_chart.ipynb#W0sZmlsZQ%3D%3D?line=6'>7</a>\u001b[0m \u001b[39mwith\u001b[39;00m \u001b[39mopen\u001b[39;49m(\u001b[39m'\u001b[39;49m\u001b[39mfloyd_results.log\u001b[39;49m\u001b[39m'\u001b[39;49m, \u001b[39m'\u001b[39;49m\u001b[39mr\u001b[39;49m\u001b[39m'\u001b[39;49m) \u001b[39mas\u001b[39;00m file:\n\u001b[0;32m      <a href='vscode-notebook-cell:/c%3A/Users/giova/Desktop/Projects/cuda-shortest-paths/apsp_floyd/floyd_chart.ipynb#W0sZmlsZQ%3D%3D?line=7'>8</a>\u001b[0m     \u001b[39mfor\u001b[39;00m line \u001b[39min\u001b[39;00m file:\n\u001b[0;32m      <a href='vscode-notebook-cell:/c%3A/Users/giova/Desktop/Projects/cuda-shortest-paths/apsp_floyd/floyd_chart.ipynb#W0sZmlsZQ%3D%3D?line=8'>9</a>\u001b[0m         parts \u001b[39m=\u001b[39m line\u001b[39m.\u001b[39msplit(\u001b[39m'\u001b[39m\u001b[39m \u001b[39m\u001b[39m'\u001b[39m)\n",
      "File \u001b[1;32m~\\AppData\\Roaming\\Python\\Python39\\site-packages\\IPython\\core\\interactiveshell.py:284\u001b[0m, in \u001b[0;36m_modified_open\u001b[1;34m(file, *args, **kwargs)\u001b[0m\n\u001b[0;32m    277\u001b[0m \u001b[39mif\u001b[39;00m file \u001b[39min\u001b[39;00m {\u001b[39m0\u001b[39m, \u001b[39m1\u001b[39m, \u001b[39m2\u001b[39m}:\n\u001b[0;32m    278\u001b[0m     \u001b[39mraise\u001b[39;00m \u001b[39mValueError\u001b[39;00m(\n\u001b[0;32m    279\u001b[0m         \u001b[39mf\u001b[39m\u001b[39m\"\u001b[39m\u001b[39mIPython won\u001b[39m\u001b[39m'\u001b[39m\u001b[39mt let you open fd=\u001b[39m\u001b[39m{\u001b[39;00mfile\u001b[39m}\u001b[39;00m\u001b[39m by default \u001b[39m\u001b[39m\"\u001b[39m\n\u001b[0;32m    280\u001b[0m         \u001b[39m\"\u001b[39m\u001b[39mas it is likely to crash IPython. If you know what you are doing, \u001b[39m\u001b[39m\"\u001b[39m\n\u001b[0;32m    281\u001b[0m         \u001b[39m\"\u001b[39m\u001b[39myou can use builtins\u001b[39m\u001b[39m'\u001b[39m\u001b[39m open.\u001b[39m\u001b[39m\"\u001b[39m\n\u001b[0;32m    282\u001b[0m     )\n\u001b[1;32m--> 284\u001b[0m \u001b[39mreturn\u001b[39;00m io_open(file, \u001b[39m*\u001b[39margs, \u001b[39m*\u001b[39m\u001b[39m*\u001b[39mkwargs)\n",
      "\u001b[1;31mFileNotFoundError\u001b[0m: [Errno 2] No such file or directory: 'floyd_results.log'"
     ]
    }
   ],
   "source": [
    "import matplotlib.pyplot as plt\n",
    "\n",
    "gpu_times = []\n",
    "cpu_times = []\n",
    "sizes = []\n",
    "\n",
    "with open('floyd_results.log', 'r') as file:\n",
    "    for line in file:\n",
    "        parts = line.split(' ')\n",
    "        time = float(parts[5])\n",
    "        size = int(parts[9])\n",
    "        \n",
    "        if 'GPU' in line:\n",
    "            gpu_times.append(time)\n",
    "        elif 'CPU' in line:\n",
    "            cpu_times.append(time)\n",
    "        \n",
    "        sizes.append(size)\n",
    "\n",
    "gpu_sizes = sizes[::2]  # Obtém tamanhos de GPU (índices pares)\n",
    "cpu_sizes = sizes[1::2]  # Obtém tamanhos de CPU (índices ímpares)\n",
    "\n",
    "plt.figure(figsize=(10, 6))\n",
    "\n",
    "plt.plot(gpu_sizes, gpu_times, marker='o', label='Floyd GPU', color='green')\n",
    "plt.plot(cpu_sizes, cpu_times, marker='o', label='Floyd CPU', color = 'orange')\n",
    "\n",
    "plt.title('Floyd GPU CUDA X CPU SERIAL')\n",
    "plt.xlabel('Size')\n",
    "plt.ylabel('Execution Time (seconds)')\n",
    "plt.legend()\n",
    "plt.grid(True)\n",
    "plt.show()"
   ]
  }
 ],
 "metadata": {
  "kernelspec": {
   "display_name": "Python 3",
   "language": "python",
   "name": "python3"
  },
  "language_info": {
   "codemirror_mode": {
    "name": "ipython",
    "version": 3
   },
   "file_extension": ".py",
   "mimetype": "text/x-python",
   "name": "python",
   "nbconvert_exporter": "python",
   "pygments_lexer": "ipython3",
   "version": "3.9.2"
  }
 },
 "nbformat": 4,
 "nbformat_minor": 2
}
